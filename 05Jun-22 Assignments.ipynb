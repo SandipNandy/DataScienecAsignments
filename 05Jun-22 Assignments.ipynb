{
 "cells": [
  {
   "cell_type": "code",
   "execution_count": 2,
   "id": "b885f74a",
   "metadata": {},
   "outputs": [
    {
     "name": "stdout",
     "output_type": "stream",
     "text": [
      "Expected Prime Number :  2\n",
      "Expected Prime Number :  3\n",
      "Expected Prime Number :  5\n",
      "Expected Prime Number :  7\n",
      "Expected Prime Number :  11\n",
      "Expected Prime Number :  13\n",
      "Expected Prime Number :  17\n",
      "Expected Prime Number :  19\n",
      "Expected Prime Number :  23\n",
      "Expected Prime Number :  29\n",
      "Expected Prime Number :  31\n",
      "Expected Prime Number :  37\n",
      "Expected Prime Number :  41\n",
      "Expected Prime Number :  43\n",
      "Expected Prime Number :  47\n",
      "Expected Prime Number :  53\n",
      "Expected Prime Number :  59\n",
      "Expected Prime Number :  61\n",
      "Expected Prime Number :  67\n",
      "Expected Prime Number :  71\n",
      "Expected Prime Number :  73\n",
      "Expected Prime Number :  79\n",
      "Expected Prime Number :  83\n",
      "Expected Prime Number :  89\n",
      "Expected Prime Number :  97\n",
      "Expected Prime Number :  101\n",
      "Expected Prime Number :  103\n",
      "Expected Prime Number :  107\n",
      "Expected Prime Number :  109\n",
      "Expected Prime Number :  113\n",
      "Expected Prime Number :  127\n",
      "Expected Prime Number :  131\n",
      "Expected Prime Number :  137\n",
      "Expected Prime Number :  139\n",
      "Expected Prime Number :  149\n",
      "Expected Prime Number :  151\n",
      "Expected Prime Number :  157\n",
      "Expected Prime Number :  163\n",
      "Expected Prime Number :  167\n",
      "Expected Prime Number :  173\n",
      "Expected Prime Number :  179\n",
      "Expected Prime Number :  181\n",
      "Expected Prime Number :  191\n",
      "Expected Prime Number :  193\n",
      "Expected Prime Number :  197\n",
      "Expected Prime Number :  199\n",
      "Expected Prime Number :  211\n",
      "Expected Prime Number :  223\n",
      "Expected Prime Number :  227\n",
      "Expected Prime Number :  229\n",
      "Expected Prime Number :  233\n",
      "Expected Prime Number :  239\n",
      "Expected Prime Number :  241\n",
      "Expected Prime Number :  251\n",
      "Expected Prime Number :  257\n",
      "Expected Prime Number :  263\n",
      "Expected Prime Number :  269\n",
      "Expected Prime Number :  271\n",
      "Expected Prime Number :  277\n",
      "Expected Prime Number :  281\n",
      "Expected Prime Number :  283\n",
      "Expected Prime Number :  293\n",
      "Expected Prime Number :  307\n",
      "Expected Prime Number :  311\n",
      "Expected Prime Number :  313\n",
      "Expected Prime Number :  317\n",
      "Expected Prime Number :  331\n",
      "Expected Prime Number :  337\n",
      "Expected Prime Number :  347\n",
      "Expected Prime Number :  349\n",
      "Expected Prime Number :  353\n",
      "Expected Prime Number :  359\n",
      "Expected Prime Number :  367\n",
      "Expected Prime Number :  373\n",
      "Expected Prime Number :  379\n",
      "Expected Prime Number :  383\n",
      "Expected Prime Number :  389\n",
      "Expected Prime Number :  397\n",
      "Expected Prime Number :  401\n",
      "Expected Prime Number :  409\n",
      "Expected Prime Number :  419\n",
      "Expected Prime Number :  421\n",
      "Expected Prime Number :  431\n",
      "Expected Prime Number :  433\n",
      "Expected Prime Number :  439\n",
      "Expected Prime Number :  443\n",
      "Expected Prime Number :  449\n",
      "Expected Prime Number :  457\n",
      "Expected Prime Number :  461\n",
      "Expected Prime Number :  463\n",
      "Expected Prime Number :  467\n",
      "Expected Prime Number :  479\n",
      "Expected Prime Number :  487\n",
      "Expected Prime Number :  491\n",
      "Expected Prime Number :  499\n",
      "Expected Prime Number :  503\n",
      "Expected Prime Number :  509\n",
      "Expected Prime Number :  521\n",
      "Expected Prime Number :  523\n",
      "Expected Prime Number :  541\n",
      "Expected Prime Number :  547\n",
      "Expected Prime Number :  557\n",
      "Expected Prime Number :  563\n",
      "Expected Prime Number :  569\n",
      "Expected Prime Number :  571\n",
      "Expected Prime Number :  577\n",
      "Expected Prime Number :  587\n",
      "Expected Prime Number :  593\n",
      "Expected Prime Number :  599\n",
      "Expected Prime Number :  601\n",
      "Expected Prime Number :  607\n",
      "Expected Prime Number :  613\n",
      "Expected Prime Number :  617\n",
      "Expected Prime Number :  619\n",
      "Expected Prime Number :  631\n",
      "Expected Prime Number :  641\n",
      "Expected Prime Number :  643\n",
      "Expected Prime Number :  647\n",
      "Expected Prime Number :  653\n",
      "Expected Prime Number :  659\n",
      "Expected Prime Number :  661\n",
      "Expected Prime Number :  673\n",
      "Expected Prime Number :  677\n",
      "Expected Prime Number :  683\n",
      "Expected Prime Number :  691\n",
      "Expected Prime Number :  701\n",
      "Expected Prime Number :  709\n",
      "Expected Prime Number :  719\n",
      "Expected Prime Number :  727\n",
      "Expected Prime Number :  733\n",
      "Expected Prime Number :  739\n",
      "Expected Prime Number :  743\n",
      "Expected Prime Number :  751\n",
      "Expected Prime Number :  757\n",
      "Expected Prime Number :  761\n",
      "Expected Prime Number :  769\n",
      "Expected Prime Number :  773\n",
      "Expected Prime Number :  787\n",
      "Expected Prime Number :  797\n",
      "Expected Prime Number :  809\n",
      "Expected Prime Number :  811\n",
      "Expected Prime Number :  821\n",
      "Expected Prime Number :  823\n",
      "Expected Prime Number :  827\n",
      "Expected Prime Number :  829\n",
      "Expected Prime Number :  839\n",
      "Expected Prime Number :  853\n",
      "Expected Prime Number :  857\n",
      "Expected Prime Number :  859\n",
      "Expected Prime Number :  863\n",
      "Expected Prime Number :  877\n",
      "Expected Prime Number :  881\n",
      "Expected Prime Number :  883\n",
      "Expected Prime Number :  887\n",
      "Expected Prime Number :  907\n",
      "Expected Prime Number :  911\n",
      "Expected Prime Number :  919\n",
      "Expected Prime Number :  929\n",
      "Expected Prime Number :  937\n",
      "Expected Prime Number :  941\n",
      "Expected Prime Number :  947\n",
      "Expected Prime Number :  953\n",
      "Expected Prime Number :  967\n",
      "Expected Prime Number :  971\n",
      "Expected Prime Number :  977\n",
      "Expected Prime Number :  983\n",
      "Expected Prime Number :  991\n",
      "Expected Prime Number :  997\n"
     ]
    }
   ],
   "source": [
    "#Try to print a prime number in between 1 to 1000\n",
    "for i in range(1,1001):\n",
    "    if i > 1:\n",
    "        for j in range(2,i):\n",
    "            if i % j == 0:\n",
    "                break\n",
    "        else:\n",
    "            print(\"Expected Prime Number : \",i)"
   ]
  },
  {
   "cell_type": "code",
   "execution_count": 5,
   "id": "9e03910b",
   "metadata": {},
   "outputs": [
    {
     "name": "stdout",
     "output_type": "stream",
     "text": [
      "My Name is Sandip"
     ]
    }
   ],
   "source": [
    "# Try to write a function which  is equivalent  to print() function in python\n",
    "\n",
    "def Print_Output(x):\n",
    "    import sys\n",
    "    sys.stdout.write(x)\n",
    "Print_Output('My Name is Sandip')\n"
   ]
  },
  {
   "cell_type": "code",
   "execution_count": 16,
   "id": "92f10b4b",
   "metadata": {},
   "outputs": [
    {
     "data": {
      "text/plain": [
       "[9, 5, 6, 84, 7, 3]"
      ]
     },
     "execution_count": 16,
     "metadata": {},
     "output_type": "execute_result"
    }
   ],
   "source": [
    "#Try to write a function which is a replica of list append , extend and pop function \n",
    "#List Append:\n",
    "def ListAppend(MainList,Addition):\n",
    "    MainList=[*MainList,Addition]\n",
    "    return MainList\n",
    "ListAppend([1,2,4],[5,6,7])\n",
    "#List Extend\n",
    "def ListExtend(M,A):\n",
    "    M+=[A]\n",
    "    return M\n",
    "ListExtend([3,4,6],[4,5,6])\n",
    "#List POP\n",
    "def ListPop(List,Index):\n",
    "    del List[Index]\n",
    "    return List\n",
    "ListPop([9,5,6,7,84,7,3],3)"
   ]
  },
  {
   "cell_type": "code",
   "execution_count": 20,
   "id": "aee24a35",
   "metadata": {
    "scrolled": true
   },
   "outputs": [
    {
     "data": {
      "text/plain": [
       "'Ineruron Data Science Boot Camp'"
      ]
     },
     "execution_count": 20,
     "metadata": {},
     "output_type": "execute_result"
    }
   ],
   "source": [
    "#: Try to write a lambda function which can return a concatination of all the string that we will pass\n",
    "List=['Ineruron','Data','Science','Boot','Camp']\n",
    "t = lambda text: ' '.join(text)\n",
    "t(List)"
   ]
  },
  {
   "cell_type": "code",
   "execution_count": 31,
   "id": "dfd1d5bc",
   "metadata": {},
   "outputs": [
    {
     "name": "stdout",
     "output_type": "stream",
     "text": [
      "[1, 4, 9, 16, 25, 36, 49, 64, 81, 100, 121, 144, 169, 196, 225, 256, 289, 324, 361, 400, 441, 484, 529, 576, 625, 676, 729, 784, 841, 900, 961, 1024, 1089, 1156, 1225, 1296, 1369, 1444, 1521, 1600, 1681, 1764, 1849, 1936, 2025, 2116, 2209, 2304, 2401, 2500, 2601, 2704, 2809, 2916, 3025, 3136, 3249, 3364, 3481, 3600, 3721, 3844, 3969, 4096, 4225, 4356, 4489, 4624, 4761, 4900, 5041, 5184, 5329, 5476, 5625, 5776, 5929, 6084, 6241, 6400, 6561, 6724, 6889, 7056, 7225, 7396, 7569, 7744, 7921, 8100, 8281, 8464, 8649, 8836, 9025, 9216, 9409, 9604, 9801, 10000]\n"
     ]
    }
   ],
   "source": [
    "# Try to write a lambda function which can return list of square of all the data between 1-100 \n",
    "List=[]\n",
    "for i in range(1,101):\n",
    "    List+=[i]\n",
    "# print(List)\n",
    "print(list(map(lambda x:x*x, List)))"
   ]
  },
  {
   "cell_type": "code",
   "execution_count": 47,
   "id": "1d5b9303",
   "metadata": {},
   "outputs": [
    {
     "name": "stdout",
     "output_type": "stream",
     "text": [
      "[8, 12, 44, 10, 4, 6]\n",
      "[2, 14, 10, 18, 24, 90, 92, 176, 184, 2008]\n",
      "[6, 67, 98, 10, 20]\n",
      "125\n",
      "10\n",
      "20\n",
      "30\n",
      "40\n",
      "50\n",
      "60\n",
      "70\n",
      "80\n",
      "90\n",
      "100\n",
      "8\n",
      "262\n",
      "[10, 8, 7, 11]\n"
     ]
    },
    {
     "data": {
      "text/plain": [
       "56"
      ]
     },
     "execution_count": 47,
     "metadata": {},
     "output_type": "execute_result"
    }
   ],
   "source": [
    "# : Try to write a 10 Different different example of lambda function with a choice of your taks\n",
    "#1. Program to filter out only the even items from a list\n",
    "my_list = [3,7,8,12,44,67,9,10,4,6]\n",
    "new_list = list(filter(lambda x: (x%2 == 0) , my_list))\n",
    "print(new_list)\n",
    "#2. Program to double each item in a list using map()\n",
    "my_list = [1,7,5,9,12,45,46,88,92,1004]\n",
    "new_list = list(map(lambda x: x * 2 , my_list))\n",
    "print(new_list)\n",
    "# 3. A lambda function that checks if a number is positive.\n",
    "my_list = [6,-1,67,98,-4,-6,10,20,-5]\n",
    "new_list = list(filter(lambda x: x > 0, my_list))\n",
    "print(new_list)\n",
    "# 4. Code to show cube of a number\n",
    "lambda_cube = lambda y: y*y*y\n",
    "print(lambda_cube(5))\n",
    "# 5. lambda function with list comprehension and lambda with for loop\n",
    "tables = [lambda x=x: x*10 for x in range(1, 11)]\n",
    "for table in tables:\n",
    "    print(table())\n",
    "# 6. Lambda Function with if-else\n",
    "Max = lambda a, b : a if(a > b) else b\n",
    "print(Max(5, 8))\n",
    "#7. Reduce() with lambda() to get sum of a list\n",
    "from functools import reduce\n",
    "li = [6,8,9,10,24,100,105]\n",
    "sum = reduce((lambda x, y: x + y), li)\n",
    "print (sum)\n",
    "# 8. Lambda Function to get a lsit with a condition\n",
    "sequences = [10,2,8,7,5,4,3,11,0, 1]\n",
    "filtered_answer = filter (lambda x: x > 5, sequences) \n",
    "print(list(filtered_answer))\n",
    "# 9. Lamda function to return 1 arguments from another 2 arguemnts\n",
    "Full_name = lambda first, last: f'Full name: {first.title()} {last.title()}'\n",
    "Full_name('Mr.','Sandip Nandi')\n",
    "# 10. Lambda function with higher-order functions as built-in functions or in the standard library.\n",
    "High_ord_fun = lambda x, func: x + func(x)\n",
    "High_ord_fun(7, lambda x: x * x)"
   ]
  },
  {
   "cell_type": "markdown",
   "id": "c45c5d45",
   "metadata": {},
   "source": [
    "\n"
   ]
  },
  {
   "cell_type": "code",
   "execution_count": 51,
   "id": "5d46afdc",
   "metadata": {},
   "outputs": [
    {
     "data": {
      "text/plain": [
       "'Hello!! Every One My name is Sandip Nandi,currently Scripting some process.'"
      ]
     },
     "execution_count": 51,
     "metadata": {},
     "output_type": "execute_result"
    }
   ],
   "source": [
    "# 7 Try to wwrite a funtion whihc can perform a read operation from .txt file \n",
    "f = open(\"Music/test.txt\",'r',encoding = 'utf-8')\n",
    "f.read()"
   ]
  },
  {
   "cell_type": "code",
   "execution_count": null,
   "id": "17928dd1",
   "metadata": {},
   "outputs": [],
   "source": []
  }
 ],
 "metadata": {
  "kernelspec": {
   "display_name": "Python 3 (ipykernel)",
   "language": "python",
   "name": "python3"
  },
  "language_info": {
   "codemirror_mode": {
    "name": "ipython",
    "version": 3
   },
   "file_extension": ".py",
   "mimetype": "text/x-python",
   "name": "python",
   "nbconvert_exporter": "python",
   "pygments_lexer": "ipython3",
   "version": "3.9.7"
  }
 },
 "nbformat": 4,
 "nbformat_minor": 5
}
